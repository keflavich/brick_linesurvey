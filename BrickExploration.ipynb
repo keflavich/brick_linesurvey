{
 "cells": [
  {
   "cell_type": "code",
   "execution_count": 6,
   "id": "finnish-private",
   "metadata": {},
   "outputs": [],
   "source": [
    "from spectral_cube import SpectralCube\n",
    "from astropy import units as u"
   ]
  },
  {
   "cell_type": "code",
   "execution_count": 2,
   "id": "exclusive-survival",
   "metadata": {},
   "outputs": [
    {
     "name": "stdout",
     "output_type": "stream",
     "text": [
      "/orange/adamginsburg/brick_alma_linesurvey/2019.1.00092.S/imaging_results\n"
     ]
    }
   ],
   "source": [
    "cd /orange/adamginsburg/brick_alma_linesurvey/2019.1.00092.S/imaging_results/"
   ]
  },
  {
   "cell_type": "code",
   "execution_count": 3,
   "id": "cognitive-sally",
   "metadata": {},
   "outputs": [
    {
     "name": "stderr",
     "output_type": "stream",
     "text": [
      "/orange/adamginsburg/repos/casa-formats-io/casa_formats_io/casa_dask.py:232: RuntimeWarning: divide by zero encountered in long_scalars\n",
      "  factors = [f for f in range(stacks[dim] + 1) if stacks[dim] % f == 0]\n",
      "WARNING: StokesWarning: Cube is a Stokes cube, returning spectral cube for I component [spectral_cube.io.core]\n"
     ]
    }
   ],
   "source": [
    "cube = SpectralCube.read('source_ab_87_spw102_clean_2sigma_n50000_masked_3sigma_pbmask0p18.image')"
   ]
  },
  {
   "cell_type": "code",
   "execution_count": 4,
   "id": "amino-disorder",
   "metadata": {},
   "outputs": [
    {
     "data": {
      "text/plain": [
       "DaskVaryingResolutionSpectralCube with shape=(1920, 512, 512) and unit=Jy / beam and chunk size (80, 256, 512):\n",
       " n_x:    512  type_x: RA---SIN  unit_x: deg    range:   266.528130 deg:  266.560501 deg\n",
       " n_y:    512  type_y: DEC--SIN  unit_y: deg    range:   -28.719152 deg:  -28.690763 deg\n",
       " n_s:   1920  type_s: FREQ      unit_s: Hz     range: 85551577967.789 Hz:87425349542.806 Hz"
      ]
     },
     "execution_count": 4,
     "metadata": {},
     "output_type": "execute_result"
    }
   ],
   "source": [
    "cube"
   ]
  },
  {
   "cell_type": "code",
   "execution_count": 21,
   "id": "logical-karma",
   "metadata": {},
   "outputs": [
    {
     "name": "stderr",
     "output_type": "stream",
     "text": [
      "WARNING: PossiblySlowWarning: This function (<function VaryingResolutionSpectralCube.to at 0x2ab0a42369d8>) requires loading the entire cube into memory and may therefore be slow. [spectral_cube.utils]\n"
     ]
    }
   ],
   "source": [
    "# NH2D - deuterated ammonia\n",
    "vcen = 40*u.km/u.s\n",
    "slab = cube.with_spectral_unit(u.km/u.s, rest_value=85.926278*u.GHz, velocity_convention='radio').spectral_slab(vcen-60*u.km/u.s, vcen+60*u.km/u.s).to(u.K)"
   ]
  },
  {
   "cell_type": "code",
   "execution_count": 22,
   "id": "boolean-impact",
   "metadata": {},
   "outputs": [
    {
     "data": {
      "text/plain": [
       "DaskVaryingResolutionSpectralCube with shape=(37, 512, 512) and unit=K and chunk size (37, 512, 512):\n",
       " n_x:    512  type_x: RA---SIN  unit_x: deg    range:   266.528130 deg:  266.560501 deg\n",
       " n_y:    512  type_y: DEC--SIN  unit_y: deg    range:   -28.719152 deg:  -28.690763 deg\n",
       " n_s:     37  type_s: VRAD      unit_s: km / s  range:      -21.311 km / s:     101.331 km / s"
      ]
     },
     "execution_count": 22,
     "metadata": {},
     "output_type": "execute_result"
    }
   ],
   "source": [
    "slab"
   ]
  },
  {
   "cell_type": "code",
   "execution_count": 13,
   "id": "ordinary-tumor",
   "metadata": {},
   "outputs": [
    {
     "name": "stderr",
     "output_type": "stream",
     "text": [
      "/orange/adamginsburg/repos/radio-beam/radio_beam/multiple_beams.py:265: UserWarning: Do not use the average beam for convolution! Use the smallest common beam from `Beams.common_beam()`.\n",
      "  warnings.warn(\"Do not use the average beam for convolution! Use the\"\n",
      "WARNING: BeamAverageWarning: Arithmetic beam averaging is being performed.  This is not a mathematically robust operation, but is being permitted because the beams differ by <0.01 [spectral_cube.base_class]\n"
     ]
    }
   ],
   "source": [
    "m0 = slab.moment0(axis=0)"
   ]
  },
  {
   "cell_type": "code",
   "execution_count": 15,
   "id": "ranging-worse",
   "metadata": {},
   "outputs": [
    {
     "data": {
      "text/plain": [
       "(256, 256)"
      ]
     },
     "execution_count": 15,
     "metadata": {},
     "output_type": "execute_result"
    }
   ],
   "source": [
    "np.unravel_index(np.nanargmax(m0), m0.shape)"
   ]
  },
  {
   "cell_type": "code",
   "execution_count": 16,
   "id": "welcome-genealogy",
   "metadata": {},
   "outputs": [
    {
     "data": {
      "image/png": "[encoded data removed]",
      "text/plain": [
       "<Figure size 432x288 with 1 Axes>"
      ]
     },
     "metadata": {
      "needs_background": "light"
     },
     "output_type": "display_data"
    }
   ],
   "source": [
    "cube[:,256,256].quicklook()"
   ]
  },
  {
   "cell_type": "code",
   "execution_count": 23,
   "id": "accepted-diesel",
   "metadata": {},
   "outputs": [
    {
     "data": {
      "image/png": "[encoded data removed]",
      "text/plain": [
       "<Figure size 432x288 with 1 Axes>"
      ]
     },
     "metadata": {
      "needs_background": "light"
     },
     "output_type": "display_data"
    }
   ],
   "source": [
    "slab[:,256,256].quicklook()"
   ]
  },
  {
   "cell_type": "code",
   "execution_count": null,
   "id": "informative-suite",
   "metadata": {},
   "outputs": [],
   "source": []
  }
 ],
 "metadata": {
  "kernelspec": {
   "display_name": "Python 3.7",
   "language": "python",
   "name": "py37"
  },
  "language_info": {
   "codemirror_mode": {
    "name": "ipython",
    "version": 3
   },
   "file_extension": ".py",
   "mimetype": "text/x-python",
   "name": "python",
   "nbconvert_exporter": "python",
   "pygments_lexer": "ipython3",
   "version": "3.7.3"
  }
 },
 "nbformat": 4,
 "nbformat_minor": 5
}
